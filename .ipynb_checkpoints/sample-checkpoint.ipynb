{
 "cells": [
  {
   "cell_type": "markdown",
   "metadata": {},
   "source": [
    "# Scribe: Realistic Handwriting with TensorFlow"
   ]
  },
  {
   "cell_type": "markdown",
   "metadata": {},
   "source": [
    "<img src=\"static/author.png\" alt=\"A project by Sam Greydanus\" style=\"width: 70%;\"/>"
   ]
  },
  {
   "cell_type": "markdown",
   "metadata": {},
   "source": [
    "This model is trained on the IAM handwriting dataset and was inspired by the model described by the famous 2014 Alex Graves [paper](http://arxiv.org/abs/1308.0850). It consists of a three-layer recurrent neural network (LSTM cells) with a Gaussian Mixture Density Network (MDN) cap on top. I have also implemented the attention mechanism from the paper which allows the network to 'focus' on character at a time in a sequence as it draws them.\n",
    "\n",
    "This iPython notebook (named **sample**) demonstrates how to\n",
    "1. build the model\n",
    "2. load saved parameters\n",
    "3. generate handwriting"
   ]
  },
  {
   "cell_type": "markdown",
   "metadata": {},
   "source": [
    "## Dependencies"
   ]
  },
  {
   "cell_type": "code",
   "execution_count": 1,
   "metadata": {
    "collapsed": false
   },
   "outputs": [],
   "source": [
    "import numpy as np\n",
    "import numpy.matlib\n",
    "import matplotlib.pyplot as plt\n",
    "import matplotlib.cm as cm\n",
    "%matplotlib inline\n",
    "\n",
    "import math\n",
    "import random\n",
    "import time\n",
    "import os\n",
    "import cPickle as pickle\n",
    "\n",
    "import tensorflow as tf #built with TensorFlow version 0.9"
   ]
  },
  {
   "cell_type": "markdown",
   "metadata": {},
   "source": [
    "## Define hyperparameters"
   ]
  },
  {
   "cell_type": "markdown",
   "metadata": {},
   "source": [
    "Note that *tsteps* and *batch_size* are both 1 when we're sampling"
   ]
  },
  {
   "cell_type": "code",
   "execution_count": 2,
   "metadata": {
    "collapsed": false
   },
   "outputs": [],
   "source": [
    "# in the real project class, we use argparse (https://docs.python.org/3/library/argparse.html)\n",
    "class FakeArgParse():\n",
    "    def __init__(self):\n",
    "        pass\n",
    "args = FakeArgParse()\n",
    "\n",
    "#general model params\n",
    "args.train = False\n",
    "args.rnn_size = 400 #400 hidden units\n",
    "args.tsteps = 256 if args.train else 1\n",
    "args.batch_size = 128 if args.train else 1\n",
    "args.nmixtures = 20 # number of Gaussian mixtures in MDN\n",
    "\n",
    "#window params\n",
    "args.kmixtures = 10 # number of Gaussian mixtures in attention mechanism (for soft convolution window)\n",
    "args.alphabet = ' abcdefghijklmnopqrstuvwxyzABCDEFGHIJKLMNOPQRSTUVWXYZ' #later we'll add an <UNK> slot for unknown chars\n",
    "args.tsteps_per_ascii = 25 # an approximate estimate\n",
    "\n",
    "#book-keeping\n",
    "args.save_path = 'models/model.ckpt'\n",
    "args.log_dir = './'\n",
    "args.tsteps_forward = 600\n",
    "args.text = 'You know nothing Jon Snow'"
   ]
  },
  {
   "cell_type": "markdown",
   "metadata": {},
   "source": [
    "## Model overview"
   ]
  },
  {
   "cell_type": "markdown",
   "metadata": {},
   "source": [
    "Let's start with an overview. The backbone of the model is three LSTM cells (green). There is a a custom attention mechanism (yellow) which digests a one-hot encoding of the sentence we want the model to write. The Mixture Density Network (red) on top choses apropriate Gaussian distributions from which to sample the next pen point, adding some natural randomness to the model.\n",
    "<img src=\"static/model_rolled.png\" alt=\"Handwriting model structure\" style=\"width: 40%;\"/>\n",
    "As we build the model, we'll start with the inputs and work our way upwards through the computational graph. The code is optimized for minibatch training but in this case we already set the `args.batch_size` to 1."
   ]
  },
  {
   "cell_type": "code",
   "execution_count": 3,
   "metadata": {
    "collapsed": false
   },
   "outputs": [],
   "source": [
    "# in real life the model is a class. I used this hack to make the iPython notebook more readable\n",
    "class FakeModel():\n",
    "    def __init__(self):\n",
    "        pass\n",
    "model = FakeModel()"
   ]
  },
  {
   "cell_type": "markdown",
   "metadata": {},
   "source": [
    "## Initialize LSTMs and build LSTM 1"
   ]
  },
  {
   "cell_type": "code",
   "execution_count": 4,
   "metadata": {
    "collapsed": false
   },
   "outputs": [],
   "source": [
    "model.char_vec_len = len(args.alphabet) + 1 #plus one for <UNK> token\n",
    "model.ascii_steps = args.tsteps_forward/args.tsteps_per_ascii\n",
    "\n",
    "model.graves_initializer = tf.truncated_normal_initializer(mean=0., stddev=.075, seed=None, dtype=tf.float32)\n",
    "model.window_b_initializer = tf.truncated_normal_initializer(mean=-3.0, stddev=.25, seed=None, dtype=tf.float32)\n",
    "\n",
    "# ----- build the basic recurrent network architecture\n",
    "cell_func = tf.nn.rnn_cell.LSTMCell # could be GRUCell or RNNCell\n",
    "model.cell0 = cell_func(args.rnn_size, state_is_tuple=True, initializer=model.graves_initializer)\n",
    "model.cell1 = cell_func(args.rnn_size, state_is_tuple=True, initializer=model.graves_initializer)\n",
    "model.cell2 = cell_func(args.rnn_size, state_is_tuple=True, initializer=model.graves_initializer)\n",
    "\n",
    "model.input_data = tf.placeholder(dtype=tf.float32, shape=[None, args.tsteps, 3])\n",
    "model.target_data = tf.placeholder(dtype=tf.float32, shape=[None, args.tsteps, 3])\n",
    "model.istate_cell0 = model.cell0.zero_state(batch_size=args.batch_size, dtype=tf.float32)\n",
    "model.istate_cell1 = model.cell1.zero_state(batch_size=args.batch_size, dtype=tf.float32)\n",
    "model.istate_cell2 = model.cell2.zero_state(batch_size=args.batch_size, dtype=tf.float32)\n",
    "\n",
    "#slice the input volume into separate vols for each tstep\n",
    "inputs = [tf.squeeze(input_, [1]) for input_ in tf.split(1, args.tsteps, model.input_data)]\n",
    "\n",
    "#build model.cell0 computational graph\n",
    "outs_cell0, model.fstate_cell0 = tf.nn.seq2seq.rnn_decoder(inputs, model.istate_cell0, \\\n",
    "                                                           model.cell0, loop_function=None, scope='cell0')"
   ]
  },
  {
   "cell_type": "markdown",
   "metadata": {},
   "source": [
    "In the cell above we use the TensorFlow `seq2seq` [API](https://www.tensorflow.org/versions/r0.10/tutorials/seq2seq/index.html) to create three LSTM cells. Learn about how LSTMs work [here](https://colah.github.io/posts/2015-08-Understanding-LSTMs/). When we unroll the model in time, it will look like this (arrows denote flow of data)\n",
    "<img src=\"static/model_unrolled.png\" alt=\"Handwriting model unrolled\" style=\"width: 80%;\"/>\n",
    "We've already built the computational graph for the first LSTM cell. Our next task is to build the attention mechanism"
   ]
  },
  {
   "cell_type": "markdown",
   "metadata": {},
   "source": [
    "## Build the attention mechanism"
   ]
  },
  {
   "cell_type": "markdown",
   "metadata": {},
   "source": [
    "The attention mechanism performs a Gaussian convolution over a one-hot encoding of the input text using a mixture of Gaussians. Its final output is a soft window into the one-hot encoding of the character the model thinks it is drawing. When we stack these soft windows vertically over time, we get a heatmap like this:\n",
    "\n",
    "<img src=\"static/onehot_window.png\" alt=\"One-hot window\" style=\"width: 50%;\"/>\n",
    "\n",
    "Don't worry about how the mixture of Gaussians works together - we'll go over this in more detail later. For now, focus on building an intuition for how the parameters $\\alpha$, $\\beta$, and $\\kappa$ affect the window's behavior.\n",
    "\n",
    "These three parameters control the character window $w_t$ according to\n",
    "$$(\\hat \\alpha_t,\\hat \\beta_t, \\hat \\kappa_t)=W_{h^1 p}h_t^1+b_p$$\n",
    "\n",
    "Each of these parameters are outputs from a dense layer on top of the first LSTM which we then transform according to:\n",
    "$$\\alpha_t=\\exp (\\hat \\alpha_t) \\quad \\quad \\beta_t=\\exp (\\hat \\beta_t) \\quad \\quad \\kappa_t= \\kappa_{t-1} + \\exp (\\hat \\kappa_t)$$\n",
    "\n",
    "From these parameters we can construct the window as a convolution:\n",
    "$$w_t=\\sum_{u=1}^U \\phi(t,u)c_u \\quad \\quad \\phi(t,u)= \\sum_{k=1}^K \\alpha_t^k \\exp \\left( -\\beta_t^k(\\kappa_t^k-u)^2 \\right)$$"
   ]
  },
  {
   "cell_type": "code",
   "execution_count": 5,
   "metadata": {
    "collapsed": false
   },
   "outputs": [],
   "source": [
    "# ----- build the gaussian character window\n",
    "def get_window(alpha, beta, kappa, c):\n",
    "    # phi -> [? x 1 x ascii_steps] and is a tf matrix\n",
    "    # c -> [? x ascii_steps x alphabet] and is a tf matrix\n",
    "    ascii_steps = c.get_shape()[1].value #number of items in sequence\n",
    "    phi = get_phi(ascii_steps, alpha, beta, kappa)\n",
    "    window = tf.batch_matmul(phi,c)\n",
    "    window = tf.squeeze(window, [1]) # window ~ [?,alphabet]\n",
    "    return window, phi\n",
    "\n",
    "#get phi for all t,u (returns a [1 x tsteps] matrix) that defines the window\n",
    "def get_phi(ascii_steps, alpha, beta, kappa):\n",
    "    # alpha, beta, kappa -> [?,kmixtures,1] and each is a tf variable\n",
    "    u = np.linspace(0,ascii_steps-1,ascii_steps) # weight all the U items in the sequence\n",
    "    kappa_term = tf.square( tf.sub(kappa,u))\n",
    "    exp_term = tf.mul(-beta,kappa_term)\n",
    "    phi_k = tf.mul(alpha, tf.exp(exp_term))\n",
    "    phi = tf.reduce_sum(phi_k,1, keep_dims=True)\n",
    "    return phi # phi ~ [?,1,ascii_steps]\n",
    "\n",
    "def get_window_params(i, out_cell0, kmixtures, prev_kappa, reuse=True):\n",
    "    hidden = out_cell0.get_shape()[1]\n",
    "    n_out = 3*kmixtures\n",
    "    with tf.variable_scope('window',reuse=reuse):\n",
    "        window_w = tf.get_variable(\"window_w\", [hidden, n_out], initializer=model.graves_initializer)\n",
    "        window_b = tf.get_variable(\"window_b\", [n_out], initializer=model.window_b_initializer)\n",
    "    abk_hats = tf.nn.xw_plus_b(out_cell0, window_w, window_b) # abk_hats ~ [?,n_out]\n",
    "    # abk_hats = tf.nn.l2_normalize(abk_hats, 1)\n",
    "    abk = tf.exp(tf.reshape(abk_hats, [-1, 3*kmixtures,1]))\n",
    "\n",
    "    alpha, beta, kappa = tf.split(1, 3, abk) # alpha_hat, etc ~ [?,kmixtures]\n",
    "    kappa = kappa + prev_kappa\n",
    "    return alpha, beta, kappa # each ~ [?,kmixtures,1]"
   ]
  },
  {
   "cell_type": "markdown",
   "metadata": {},
   "source": [
    "Alex Graves gives a really nice intuition for the roles of $\\alpha$, $\\beta$, and $\\kappa$ in his paper:\n",
    ">\"Intuitively, the $\\kappa_t$ parameters\n",
    "control the location of the window, the $\\beta_t$ parameters control the width of\n",
    "the window and the $\\alpha_t$ parameters control the importance of the window within\n",
    "the mixture.\"\n",
    "\n",
    "Now that we've defined how the attention mechanism works, we need to loop through each of LSTM 1's outputs states and use them as inputs to the attention mechanism. Then, we simply concatenate the outputs of the attention mechanism to the LSTM's state vector. While we're at it, we concatenate the original pen stroke data for good measure. The modified LSTM 1 state vector looks like this:\n",
    "<img src=\"static/modified_lstm1_state.png\" alt=\"Motified LSTM 1 state vector\" style=\"width: 75%;\"/>"
   ]
  },
  {
   "cell_type": "code",
   "execution_count": 6,
   "metadata": {
    "collapsed": false
   },
   "outputs": [],
   "source": [
    "model.init_kappa = tf.placeholder(dtype=tf.float32, shape=[None, args.kmixtures, 1]) \n",
    "model.char_seq = tf.placeholder(dtype=tf.float32, shape=[None, model.ascii_steps, model.char_vec_len])\n",
    "prev_kappa = model.init_kappa\n",
    "prev_window = model.char_seq[:,0,:]\n",
    "\n",
    "#add gaussian window result\n",
    "reuse = False\n",
    "for i in range(len(outs_cell0)):\n",
    "    [alpha, beta, new_kappa] = get_window_params(i, outs_cell0[i], args.kmixtures, prev_kappa, reuse=reuse)\n",
    "    window, phi = get_window(alpha, beta, new_kappa, model.char_seq)\n",
    "    outs_cell0[i] = tf.concat(1, (outs_cell0[i],window)) #concat outputs\n",
    "    outs_cell0[i] = tf.concat(1, (outs_cell0[i],inputs[i])) #concat input data\n",
    "    prev_kappa = new_kappa\n",
    "    prev_window = window\n",
    "    reuse = True\n",
    "model.window = window #save the last window (for generation)\n",
    "model.phi = phi #save the last window (for generation)\n",
    "model.new_kappa = new_kappa #save the last window (for generation)"
   ]
  },
  {
   "cell_type": "markdown",
   "metadata": {},
   "source": [
    "## Build LSTMs 2 and 3"
   ]
  },
  {
   "cell_type": "code",
   "execution_count": 7,
   "metadata": {
    "collapsed": false
   },
   "outputs": [],
   "source": [
    "# ----- finish building second recurrent cell\n",
    "outs_cell1, model.fstate_cell1 = tf.nn.seq2seq.rnn_decoder(outs_cell0, model.istate_cell1, model.cell1, \\\n",
    "                                                           loop_function=None, scope='self.cell1')\n",
    "\n",
    "# ----- finish building third recurrent cell\n",
    "outs_cell2, model.fstate_cell2 = tf.nn.seq2seq.rnn_decoder(outs_cell1, model.istate_cell2, model.cell2, \\\n",
    "                                                          loop_function=None, scope='self.cell2')\n",
    "\n",
    "out_cell2 = tf.reshape(tf.concat(1, outs_cell2), [-1, args.rnn_size]) #concat outputs for efficiency"
   ]
  },
  {
   "cell_type": "markdown",
   "metadata": {},
   "source": [
    "## Build Mixture Density Network (MDN)"
   ]
  },
  {
   "cell_type": "markdown",
   "metadata": {},
   "source": [
    "The core idea is to have a network that predicts an entire distribution. Here we are predicting a mixture of Gaussians distributions by estimating their the means and covariances with the output from a dense neural network. In effect, the network will be able to estimate its own uncertainty. When the target is noisy it will predict diffuse distributions and where the target is really likely it will predict a peaky distribution.\n",
    "\n",
    "If the following plot represents the target data space, then the MDN will fit Gaussian distributions as shown. Since we are drawing from a mixture of Gaussians, we use make the network predict $\\pi$, which defines how likely a given point was drawn from each Gaussian in the mixture.\n",
    "\n",
    "<img src=\"static/MDN.png\" alt=\"Mixture of Gaussians\" style=\"width: 50%;\"/>\n",
    "\n",
    "The $\\pi$ values in the image are likely values for the red dot. The probability that it came from the first distribution is really unlikely, but the probablities are pretty evenly balanced between the second two"
   ]
  },
  {
   "cell_type": "markdown",
   "metadata": {},
   "source": [
    "### First, build the dense NN"
   ]
  },
  {
   "cell_type": "code",
   "execution_count": 8,
   "metadata": {
    "collapsed": true
   },
   "outputs": [],
   "source": [
    "#put a dense cap on top of the rnn cells (to interface with the mixture density network)\n",
    "n_out = 1 + args.nmixtures * 6 # end_of_stroke + gaussian mixtures defining stroke locations\n",
    "with tf.variable_scope('rnn_root'):\n",
    "    output_w = tf.get_variable(\"output_w\", [args.rnn_size, n_out], initializer=model.graves_initializer)\n",
    "    output_b = tf.get_variable(\"output_b\", [n_out], initializer=model.graves_initializer)\n",
    "\n",
    "    #put dense cap on top of cell1\n",
    "output = tf.nn.xw_plus_b(out_cell2, output_w, output_b) #data flows through dense nn"
   ]
  },
  {
   "cell_type": "markdown",
   "metadata": {},
   "source": [
    "### Next, define a 2D Gaussian using tensor operations"
   ]
  },
  {
   "cell_type": "markdown",
   "metadata": {},
   "source": [
    "A 2D gaussian looks like\n",
    "$\\mathcal{N}(x|\\mu,\\sigma,\\rho)=\\frac{1}{2\\pi\\sigma_1\\sigma_2\\sqrt(1-\\rho^2)}exp\\left[\\frac{-Z}{2(1-\\rho^2)}\\right]$ where $Z=\\frac{(x_1-\\mu_1)^2}{\\sigma_1^2}+\\frac{(x_2-\\mu_2)^2}{\\sigma_2^2}-\\frac{2\\rho(x_1-\\mu_1)(x_2-\\mu_2)}{\\sigma_1\\sigma_2}$"
   ]
  },
  {
   "cell_type": "code",
   "execution_count": 9,
   "metadata": {
    "collapsed": true
   },
   "outputs": [],
   "source": [
    "# ----- build mixture density cap on top of second recurrent cell\n",
    "def gaussian2d(x1, x2, mu1, mu2, s1, s2, rho):\n",
    "    # define gaussian mdn (eq 24, 25 from http://arxiv.org/abs/1308.0850)\n",
    "    x_mu1 = tf.sub(x1, mu1)\n",
    "    x_mu2 = tf.sub(x2, mu2)\n",
    "    Z = tf.square(tf.div(x_mu1, s1)) + \\\n",
    "        tf.square(tf.div(x_mu2, s2)) - \\\n",
    "        2*tf.div(tf.mul(rho, tf.mul(x_mu1, x_mu2)), tf.mul(s1, s2))\n",
    "    rho_square_term = 1-tf.square(rho)\n",
    "    power_e = tf.exp(tf.div(-Z,2*rho_square_term))\n",
    "    regularize_term = 2*np.pi*tf.mul(tf.mul(s1, s2), tf.sqrt(rho_square_term))\n",
    "    gaussian = tf.div(power_e, regularize_term)\n",
    "    return gaussian"
   ]
  },
  {
   "cell_type": "markdown",
   "metadata": {},
   "source": [
    "### Finally, transform the NN outputs into parameters for a mixture of Gaussians"
   ]
  },
  {
   "cell_type": "markdown",
   "metadata": {},
   "source": [
    "The gaussian mixture density network parameters are \n",
    "\n",
    "$$e_t=\\frac{1}{1+\\exp(\\hat e_t)} \\quad \\quad \\pi_t^j=\\frac{\\exp(\\hat \\pi_t^j)}{\\sum_{j'=1}^M\\exp(\\hat \\pi_t^{j'})} \\quad \\quad \\mu_t^j=\\hat \\mu_t^j \\quad \\quad \\sigma_t^j=\\exp(\\hat \\sigma_t^j)  \\quad \\quad  \\rho_t^j=\\tanh(\\hat \\rho_t^j)$$"
   ]
  },
  {
   "cell_type": "code",
   "execution_count": 10,
   "metadata": {
    "collapsed": true
   },
   "outputs": [],
   "source": [
    "# below is where we need to do MDN splitting of distribution params\n",
    "def get_mixture_coef(z):\n",
    "    # returns the tf slices containing mdn dist params (eq 18...23 of http://arxiv.org/abs/1308.0850)\n",
    "    z_eos = z[:, 0:1] #end of sentence tokens\n",
    "    z_pi, z_mu1, z_mu2, z_s1, z_s2, z_rho = tf.split(1, 6, z[:, 1:])\n",
    "\n",
    "    # end of stroke signal\n",
    "    eos = tf.sigmoid(-1*z_eos) # technically we gained a negative sign\n",
    "\n",
    "    # softmax z_pi:\n",
    "    max_pi = tf.reduce_max(z_pi, 1, keep_dims=True)\n",
    "    z_pi = tf.exp( tf.sub(z_pi, max_pi) )\n",
    "    normalize_term = tf.inv(tf.reduce_sum(z_pi, 1, keep_dims=True))\n",
    "    pi = tf.mul(normalize_term, z_pi)\n",
    "\n",
    "    #leave mu1, mu2 as they are\n",
    "    mu1 = z_mu1; mu2 = z_mu2\n",
    "\n",
    "    # exp for sigmas\n",
    "    sigma1 = tf.exp(z_s1); sigma2 = tf.exp(z_s2)\n",
    "\n",
    "    #tanh for rho (goes between -1 and 1)\n",
    "    rho = tf.tanh(z_rho)\n",
    "\n",
    "    return [eos, pi, mu1, mu2, sigma1, sigma2, rho]"
   ]
  },
  {
   "cell_type": "markdown",
   "metadata": {},
   "source": [
    "Now we just map the outputs from the dense NN to the Gaussian mixture parameters."
   ]
  },
  {
   "cell_type": "code",
   "execution_count": 11,
   "metadata": {
    "collapsed": false
   },
   "outputs": [],
   "source": [
    "# reshape target data (as we did the input data)\n",
    "flat_target_data = tf.reshape(model.target_data,[-1, 3])\n",
    "[x1_data, x2_data, eos_data] = tf.split(1, 3, flat_target_data) #we might as well split these now\n",
    "[model.eos, model.pi, model.mu1, model.mu2, model.sigma1, model.sigma2, model.rho] = get_mixture_coef(output)"
   ]
  },
  {
   "cell_type": "markdown",
   "metadata": {},
   "source": [
    "## Side note: loss"
   ]
  },
  {
   "cell_type": "markdown",
   "metadata": {},
   "source": [
    "We don't actually need to calculate loss in order to generate handwriting, but it is necessary for training the model. I'll provide the equations from the original paper but omit the code. If you want to see how to implement them in TensorFlow, check out the model.py file in this Github project.\n",
    "\n",
    "We define in terms of the MDN parameters and the target data as follows:\n",
    "$$ \\mathcal{L}(x)=\\sum_{t=1}^{T} -log\\left(\\sum_{j} \\pi_t^j\\mathcal{N}(x_{t+1}|\\mu_t^j,\\sigma_t^j,\\rho_t^j)\n",
    "\\right)\n",
    "-\\left\\{\n",
    "        \\begin{array}{ll}\n",
    "            \\log e_t & (x_{t+1})_3=1\\\\\n",
    "            \\log(1-e_t) & \\quad \\mathrm{otherwise}\n",
    "        \\end{array}\n",
    "    \\right.\n",
    "$$"
   ]
  },
  {
   "cell_type": "markdown",
   "metadata": {},
   "source": [
    "## Load saved model"
   ]
  },
  {
   "cell_type": "markdown",
   "metadata": {},
   "source": [
    "Now that the entire model is built, we can start a session and try to load weights from a saved model. Look on this project's Github page for instructions on how to download a pretrained model."
   ]
  },
  {
   "cell_type": "code",
   "execution_count": 12,
   "metadata": {
    "collapsed": false
   },
   "outputs": [
    {
     "name": "stdout",
     "output_type": "stream",
     "text": [
      "loaded model: models/model.ckpt-131000\n"
     ]
    }
   ],
   "source": [
    "model.sess = tf.InteractiveSession()\n",
    "load_was_success = True # yes, I'm being optimistic\n",
    "global_step = 0\n",
    "try:\n",
    "    model.saver = tf.train.Saver(tf.all_variables())\n",
    "    save_dir = ''.join(args.save_path.split('/')[:-1])\n",
    "    ckpt = tf.train.get_checkpoint_state(save_dir)\n",
    "    load_path = ckpt.model_checkpoint_path\n",
    "    model.saver.restore(model.sess, load_path)\n",
    "except:\n",
    "    print \"no saved model to load. starting new session\"\n",
    "    tf.initialize_all_variables().run()\n",
    "    load_was_success = False\n",
    "else:\n",
    "    print \"loaded model: {}\".format(load_path)\n",
    "    model.saver = tf.train.Saver(tf.all_variables())\n",
    "    global_step = int(load_path.split('-')[-1])"
   ]
  },
  {
   "cell_type": "markdown",
   "metadata": {},
   "source": [
    "## Generate handwriting!"
   ]
  },
  {
   "cell_type": "code",
   "execution_count": 13,
   "metadata": {
    "collapsed": true
   },
   "outputs": [],
   "source": [
    "#utility function for converting input ascii characters into vectors the network can understand\n",
    "def to_one_hot(s, ascii_steps, alphabet):\n",
    "    #index position 0 means \"unknown\"\n",
    "    seq = [alphabet.find(char) + 1 for char in s]\n",
    "    if len(seq) >= ascii_steps:\n",
    "        seq = seq[:ascii_steps]\n",
    "    else:\n",
    "        seq = seq + [0]*(ascii_steps - len(seq))\n",
    "    one_hot = np.zeros((ascii_steps,len(alphabet)+1))\n",
    "    one_hot[np.arange(ascii_steps),seq] = 1\n",
    "    return one_hot"
   ]
  },
  {
   "cell_type": "markdown",
   "metadata": {},
   "source": [
    "### Prepare feed parameters for the model"
   ]
  },
  {
   "cell_type": "markdown",
   "metadata": {},
   "source": [
    "When you ask TensorFlow to find the values in one or more of its tensors, you pass these tensors in as a list. This is your `fetch` list. TensorFlow looks through the computational graph you've built and figures out all of the inputs it needs in order to calculate values for the tensors in the `fetch` list. It takes these inputs as a `feed` dictionary, where the keys are TensorFlow entry-point variables (called Placeholders) and the values are numpy inputs.\n",
    "\n",
    "In the next cell, we'll collect all the numpy values we'll need to make the `feed` dictionary when we evaluate the model"
   ]
  },
  {
   "cell_type": "code",
   "execution_count": 14,
   "metadata": {
    "collapsed": true
   },
   "outputs": [],
   "source": [
    "# convert input string to one-hot vector\n",
    "s = args.text[:model.ascii_steps] # the string we'll\n",
    "args.tsteps_forward = model.ascii_steps*args.tsteps_per_ascii\n",
    "one_hot = [to_one_hot(s, model.ascii_steps, args.alphabet)]\n",
    "\n",
    "# get numpy zeros states for all three LSTMs\n",
    "c0, c1, c2 = model.istate_cell0.c.eval(), model.istate_cell1.c.eval(), model.istate_cell2.c.eval()\n",
    "h0, h1, h2 = model.istate_cell0.h.eval(), model.istate_cell1.h.eval(), model.istate_cell2.h.eval()\n",
    "\n",
    "# initialize the attention mechanism so that it's looking at the first entry in the one-hots vector\n",
    "kappa = np.zeros((args.batch_size, args.kmixtures, 1))\n",
    "\n",
    "# start with a pen stroke at (0,0)\n",
    "prev_x = np.zeros((1, 1, 3), dtype=np.float32)\n",
    "prev_x[0, 0, 2] = 1 # we want the model to start on a new stroke\n",
    "\n",
    "#make a bank for pen strokes\n",
    "strokes = np.zeros((args.tsteps_forward, 3), dtype=np.float32)\n",
    "\n",
    "# for the purposes of this model, let's keep track of how the attention model changes over time\n",
    "windows = np.zeros((0,model.char_vec_len))\n",
    "phis = np.zeros((0,model.ascii_steps)) #[? x 1 x ascii_steps]\n",
    "kappas = np.zeros((args.kmixtures,1), dtype=np.float32)"
   ]
  },
  {
   "cell_type": "markdown",
   "metadata": {},
   "source": [
    "### Sample from the model"
   ]
  },
  {
   "cell_type": "markdown",
   "metadata": {},
   "source": [
    "Each loop is a full pass through the model. The input for the model at time t $i_t$ is the output from the model at time t-1 $o_{t-1}$"
   ]
  },
  {
   "cell_type": "code",
   "execution_count": 15,
   "metadata": {
    "collapsed": false
   },
   "outputs": [],
   "source": [
    "for i in xrange(args.tsteps_forward):\n",
    "    feed = {model.input_data: prev_x, model.char_seq: one_hot, model.init_kappa: kappa, \\\n",
    "            model.istate_cell0.c: c0, model.istate_cell1.c: c1, model.istate_cell2.c: c2, \\\n",
    "            model.istate_cell0.h: h0, model.istate_cell1.h: h1, model.istate_cell2.h: h2}\n",
    "    fetch = [model.pi, model.mu1, model.mu2, model.eos, model.window, model.phi, model.new_kappa, \\\n",
    "             model.fstate_cell0.c, model.fstate_cell1.c, model.fstate_cell2.c,\\\n",
    "             model.fstate_cell0.h, model.fstate_cell1.h, model.fstate_cell2.h]\n",
    "    [o_pi, o_mu1, o_mu2, o_eos, window, phi, kappa, c0, c1, c2, h0, h1, h2] = model.sess.run(fetch, feed)\n",
    "    \n",
    "    # store the info from the attention model\n",
    "    windows = np.concatenate((windows, window),axis=0)\n",
    "    phis = np.concatenate((phis, phi[0]),axis=0)\n",
    "    kappas = np.concatenate((kappas, kappa[0]),axis=1)\n",
    "\n",
    "    # store stroke data\n",
    "    _, idx = np.where(o_pi==np.max(o_pi)); idx = np.squeeze(idx)\n",
    "    eos = 1 if random.random() < o_eos[0][0] else 0 # decide it we're at the end of a stroke\n",
    "    strokes[i,:] = [o_mu1[0][idx], o_mu2[0][idx], eos]\n",
    "    \n",
    "    # new input is previous output\n",
    "    prev_x = np.zeros((1, 1, 3), dtype=np.float32)\n",
    "    prev_x[0][0] = np.array([o_mu1[0][idx], o_mu2[0][idx], eos], dtype=np.float32)\n",
    "\n",
    "# the network predicts the displacements between pen points, so do a running sum over the time dimension\n",
    "strokes[:,:2] = np.cumsum(strokes[:,:2], axis=0)"
   ]
  },
  {
   "cell_type": "markdown",
   "metadata": {},
   "source": [
    "### Custom plotting utils"
   ]
  },
  {
   "cell_type": "code",
   "execution_count": 16,
   "metadata": {
    "collapsed": true
   },
   "outputs": [],
   "source": [
    "# plots parameters from the attention mechanism\n",
    "def window_plots(strokes, phis, windows):\n",
    "    plt.figure(figsize=(16,4))\n",
    "    plt.subplot(121)\n",
    "    plt.title('Phis')\n",
    "    plt.imshow(phis, interpolation='nearest', aspect='auto', cmap=cm.jet)\n",
    "    plt.subplot(122)\n",
    "    plt.title('One-hot windows')\n",
    "    plt.imshow(windows, interpolation='nearest', aspect='auto', cmap=cm.jet)\n",
    "\n",
    "# plots the stroke data (handwriting!)\n",
    "def line_plot(strokes, title, figsize = (20,2)):\n",
    "    plt.figure(figsize=figsize)\n",
    "    eos_preds = np.where(strokes[:,-1] == 1)\n",
    "    eos_preds = [0] + list(eos_preds[0]) + [-1] #add start and end indices\n",
    "    for i in range(len(eos_preds)-1):\n",
    "        start = eos_preds[i]+1\n",
    "        stop = eos_preds[i+1]\n",
    "        plt.plot(strokes[start:stop,0], strokes[start:stop,1],'r-', linewidth=5.0) #draw a stroke\n",
    "    plt.title(title)\n",
    "    plt.gca().invert_yaxis()\n",
    "    plt.show()"
   ]
  },
  {
   "cell_type": "markdown",
   "metadata": {},
   "source": [
    "# Plots"
   ]
  },
  {
   "cell_type": "markdown",
   "metadata": {},
   "source": [
    "**Plot 1:** A time series plot of the window's position. The vertical axis is time (descending) and the horizontal axis is the sequence of ascii characters that the model is drawing.\n",
    "\n",
    "**Plot 2:** A time series of one-hot encodings produced by the attention mechanism. Again, the vertical axis is time. The horizontal axis what the model sees when it looks through the soft window.\n",
    "\n",
    "Note that the bright stripes in the first plot are the model’s way of encoding the end of a pen stroke. We never hard-coded this behavior!"
   ]
  },
  {
   "cell_type": "code",
   "execution_count": 17,
   "metadata": {
    "collapsed": false
   },
   "outputs": [
    {
     "data": {
      "image/png": "[encoded data removed]",
      "text/plain": [
       "<matplotlib.figure.Figure at 0x110bd1e50>"
      ]
     },
     "metadata": {},
     "output_type": "display_data"
    }
   ],
   "source": [
    "window_plots(strokes, phis, windows)"
   ]
  },
  {
   "cell_type": "markdown",
   "metadata": {},
   "source": [
    "Last but not least, let's generate some handwriting. Since the LSTMs' states start out as zeros, the model generally chooses a random style and then maintains that style for the rest of the sample. If you repeat the sampling a couple times, you'll see everything from messy, scrawling cursive to neat print. Each 'style' comes from one of the writers of the dataset."
   ]
  },
  {
   "cell_type": "code",
   "execution_count": 18,
   "metadata": {
    "collapsed": false
   },
   "outputs": [
    {
     "data": {
      "image/png": "[encoded data removed]",
      "text/plain": [
       "<matplotlib.figure.Figure at 0x113ba52d0>"
      ]
     },
     "metadata": {},
     "output_type": "display_data"
    }
   ],
   "source": [
    "line_plot(strokes, 'Line plot: \"{}\"'.format(s), figsize=(2*model.ascii_steps,4))"
   ]
  },
  {
   "cell_type": "code",
   "execution_count": null,
   "metadata": {
    "collapsed": true
   },
   "outputs": [],
   "source": []
  },
  {
   "cell_type": "code",
   "execution_count": null,
   "metadata": {
    "collapsed": true
   },
   "outputs": [],
   "source": []
  }
 ],
 "metadata": {
  "kernelspec": {
   "display_name": "Python 2",
   "language": "python",
   "name": "python2"
  },
  "language_info": {
   "codemirror_mode": {
    "name": "ipython",
    "version": 2
   },
   "file_extension": ".py",
   "mimetype": "text/x-python",
   "name": "python",
   "nbconvert_exporter": "python",
   "pygments_lexer": "ipython2",
   "version": "2.7.10"
  }
 },
 "nbformat": 4,
 "nbformat_minor": 0
}
